{
 "cells": [
  {
   "cell_type": "code",
   "execution_count": 7,
   "source": [
    "import tensorflow as tf\r\n",
    "from tensorflow.keras.models import Model\r\n",
    "from tensorflow.keras.layers import Dense, Input\r\n",
    "from tensorflow.keras import layers\r\n",
    "\r\n",
    "import utils\r\n",
    "import tensorflow_datasets as tfds\r\n",
    "import numpy as np\r\n",
    "import matplotlib.pyplot as plt\r\n",
    "import pandas as pd\r\n",
    "from sklearn.model_selection import train_test_split\r\n",
    "from sklearn.metrics import confusion_matrix\r\n",
    "import itertools\r\n",
    "\r\n"
   ],
   "outputs": [],
   "metadata": {}
  },
  {
   "cell_type": "code",
   "execution_count": 8,
   "source": [
    "class Block(tf.keras.Model):\r\n",
    "    def __init__(self, filters, kernel_size, repetitions, pool_size=2, strides=2):\r\n",
    "        super(Block, self).__init__()\r\n",
    "        self.filters = filters\r\n",
    "        self.kernel_size = kernel_size\r\n",
    "        self.repetitions = repetitions\r\n",
    "        \r\n",
    "        for i in range(self.repetitions):\r\n",
    "            \r\n",
    "            vars(self)[f'conv2D_{i}'] = tf.keras.layers.Conv2D(self.filters, self.kernel_size,\r\n",
    "                                                               activation= 'relu', padding= 'same')\r\n",
    "        \r\n",
    "        self.max_pool = tf.keras.layers.MaxPool2D(pool_size, strides=strides)\r\n",
    "  \r\n",
    "    def call(self, inputs):\r\n",
    "        conv2D_0 = vars(self)['conv2D_0']\r\n",
    "             \r\n",
    "        x = conv2D_0(inputs) \r\n",
    "\r\n",
    "        for i in range(1,self.repetitions):\r\n",
    "            conv2D_i = vars(self)[f'conv2D_{i}']\r\n",
    "          \r\n",
    "            x = conv2D_i(x)\r\n",
    "\r\n",
    "        max_pool = self.max_pool(x)\r\n",
    "      \r\n",
    "        return max_pool\r\n",
    "\r\n",
    "class MyVGG(tf.keras.Model):\r\n",
    "\r\n",
    "    def __init__(self, num_classes):\r\n",
    "        super(MyVGG, self).__init__()\r\n",
    "\r\n",
    "        self.block_a = Block(filters=64, kernel_size=3, repetitions=2)\r\n",
    "        self.block_b = Block(filters=128, kernel_size=3, repetitions=2)\r\n",
    "        self.block_c = Block(filters=256, kernel_size=3, repetitions=3)\r\n",
    "        self.block_d = Block(filters=512, kernel_size=3, repetitions=3)\r\n",
    "        self.block_e = Block(filters=512, kernel_size=3, repetitions=3)\r\n",
    "\r\n",
    "        self.flatten = tf.keras.layers.Flatten()\r\n",
    "        self.fc = tf.keras.layers.Dense(256, activation='relu')\r\n",
    "        self.classifier =tf.keras.layers.Dense(num_classes, activation='softmax')\r\n",
    "\r\n",
    "    def call(self, inputs):\r\n",
    "        x = self.block_a(inputs)\r\n",
    "        x = self.block_b(x)\r\n",
    "        x = self.block_c(x)\r\n",
    "        x = self.block_d(x)\r\n",
    "        x = self.block_e(x)\r\n",
    "        x = self.flatten(x)\r\n",
    "        x = self.fc(x)\r\n",
    "        x = self.classifier(x)\r\n",
    "        return x"
   ],
   "outputs": [],
   "metadata": {}
  },
  {
   "cell_type": "code",
   "execution_count": null,
   "source": [
    "dataset = tfds.load('cats_vs_dogs', split=tfds.Split.TRAIN, data_dir='data/')\r\n",
    "\r\n",
    "vgg = MyVGG(num_classes=2)\r\n",
    "\r\n",
    "vgg.compile(optimizer='adam', loss='sparse_categorical_crossentropy', metrics=['accuracy'])\r\n",
    "\r\n",
    "def preprocess(features):\r\n",
    "    image = tf.image.resize(features['image'], (224, 224))\r\n",
    "    return tf.cast(image, tf.float32) / 255., features['label']\r\n",
    "\r\n",
    "dataset = dataset.map(preprocess).batch(32)\r\n",
    "vgg.fit(dataset, epochs=10)"
   ],
   "outputs": [],
   "metadata": {}
  }
 ],
 "metadata": {
  "orig_nbformat": 4,
  "language_info": {
   "name": "python",
   "version": "3.8.5",
   "mimetype": "text/x-python",
   "codemirror_mode": {
    "name": "ipython",
    "version": 3
   },
   "pygments_lexer": "ipython3",
   "nbconvert_exporter": "python",
   "file_extension": ".py"
  },
  "kernelspec": {
   "name": "python3",
   "display_name": "Python 3.8.5 64-bit ('base': conda)"
  },
  "interpreter": {
   "hash": "62777786f8687b9575c0619f17c497edf6c2b58eb2992f0dd825a023781db6e8"
  }
 },
 "nbformat": 4,
 "nbformat_minor": 2
}